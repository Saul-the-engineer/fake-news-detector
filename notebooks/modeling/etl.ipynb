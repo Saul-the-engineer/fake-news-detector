{
 "cells": [
  {
   "cell_type": "code",
   "execution_count": 1,
   "metadata": {},
   "outputs": [],
   "source": [
    "import pandas as pd\n",
    "from features.preprocessing_utils import (\n",
    "    Datapoint,\n",
    "    normalize_and_clean,\n",
    "    normalize_labels,\n",
    "    normalize_and_clean_counts,\n",
    "    normalize_and_clean_state_info,\n",
    "    normalize_and_clean_party_affiliations,\n",
    "    normalize_and_clean_speaker_title,\n",
    ")\n",
    "import csv\n",
    "from typing import List, Tuple, Dict\n",
    "import logging"
   ]
  },
  {
   "cell_type": "code",
   "execution_count": 2,
   "metadata": {},
   "outputs": [],
   "source": [
    "TRAIN_PATH = \"../../data/raw/train.tsv\"\n",
    "VAL_PATH = \"../../data/raw/val.tsv\"\n",
    "TEST_PATH = \"../../data/raw/test.tsv\""
   ]
  },
  {
   "cell_type": "code",
   "execution_count": 3,
   "metadata": {},
   "outputs": [],
   "source": [
    "train_df = pd.read_csv(\n",
    "    TRAIN_PATH,\n",
    "    sep=\"\\t\",\n",
    "    names=[\n",
    "        \"id\",\n",
    "        \"statement_json\",\n",
    "        \"label\",\n",
    "        \"statement\",\n",
    "        \"subject\",\n",
    "        \"speaker\",\n",
    "        \"speaker_title\",\n",
    "        \"state_info\",\n",
    "        \"party_affiliation\",\n",
    "        \"barely_true_count\",\n",
    "        \"false_count\",\n",
    "        \"half_true_count\",\n",
    "        \"mostly_true_count\",\n",
    "        \"pants_fire_count\",\n",
    "        \"context\",\n",
    "        \"justification\",\n",
    "    ],\n",
    ")\n",
    "val_df = pd.read_csv(\n",
    "    VAL_PATH,\n",
    "    sep=\"\\t\",\n",
    "    names=[\n",
    "        \"id\",\n",
    "        \"statement_json\",\n",
    "        \"label\",\n",
    "        \"statement\",\n",
    "        \"subject\",\n",
    "        \"speaker\",\n",
    "        \"speaker_title\",\n",
    "        \"state_info\",\n",
    "        \"party_affiliation\",\n",
    "        \"barely_true_count\",\n",
    "        \"false_count\",\n",
    "        \"half_true_count\",\n",
    "        \"mostly_true_count\",\n",
    "        \"pants_fire_count\",\n",
    "        \"context\",\n",
    "        \"justification\",\n",
    "    ],\n",
    ")\n",
    "test_df = pd.read_csv(\n",
    "    TEST_PATH,\n",
    "    sep=\"\\t\",\n",
    "    names=[\n",
    "        \"id\",\n",
    "        \"statement_json\",\n",
    "        \"label\",\n",
    "        \"statement\",\n",
    "        \"subject\",\n",
    "        \"speaker\",\n",
    "        \"speaker_title\",\n",
    "        \"state_info\",\n",
    "        \"party_affiliation\",\n",
    "        \"barely_true_count\",\n",
    "        \"false_count\",\n",
    "        \"half_true_count\",\n",
    "        \"mostly_true_count\",\n",
    "        \"pants_fire_count\",\n",
    "        \"context\",\n",
    "        \"justification\",\n",
    "    ],\n",
    ")"
   ]
  },
  {
   "cell_type": "code",
   "execution_count": 6,
   "metadata": {},
   "outputs": [],
   "source": [
    "logging.basicConfig(\n",
    "    format=\"%(levelname)s - %(asctime)s - %(filename)s - %(message)s\",\n",
    "    level=logging.DEBUG,\n",
    ")\n",
    "LOGGER = logging.getLogger(__name__)\n",
    "\n",
    "\n",
    "def read_datapoints(datapath: str) -> List[Dict]:\n",
    "    LOGGER.info(f\"Reading data from {datapath}\")\n",
    "    with open(datapath) as f:\n",
    "        reader = csv.DictReader(\n",
    "            f,\n",
    "            delimiter=\"\\t\",\n",
    "            fieldnames=[\n",
    "                \"id\",\n",
    "                \"statement_json\",\n",
    "                \"label\",\n",
    "                \"statement\",\n",
    "                \"subject\",\n",
    "                \"speaker\",\n",
    "                \"speaker_title\",\n",
    "                \"state_info\",\n",
    "                \"party_affiliation\",\n",
    "                \"barely_true_count\",\n",
    "                \"false_count\",\n",
    "                \"half_true_count\",\n",
    "                \"mostly_true_count\",\n",
    "                \"pants_fire_count\",\n",
    "                \"context\",\n",
    "                \"justification\",\n",
    "            ],\n",
    "        )\n",
    "        # Filter out rows with any missing values\n",
    "        return [row for row in reader if all(row[field] for field in reader.fieldnames)]"
   ]
  },
  {
   "cell_type": "code",
   "execution_count": 7,
   "metadata": {},
   "outputs": [
    {
     "name": "stderr",
     "output_type": "stream",
     "text": [
      "INFO - 2024-10-26 15:32:26,804 - 1187241512.py - Reading data from ../../data/raw/train.tsv\n",
      "INFO - 2024-10-26 15:32:26,880 - 3927029435.py - Read 6669 training datapoints\n"
     ]
    }
   ],
   "source": [
    "train_datapoints = read_datapoints(TRAIN_PATH)\n",
    "LOGGER.info(f\"Read {len(train_datapoints)} training datapoints\")"
   ]
  },
  {
   "cell_type": "code",
   "execution_count": 8,
   "metadata": {},
   "outputs": [
    {
     "name": "stderr",
     "output_type": "stream",
     "text": [
      "INFO - 2024-10-26 15:32:28,925 - 1542445790.py - Normalizing and cleaning data...\n"
     ]
    }
   ],
   "source": [
    "LOGGER.info(\"Normalizing and cleaning data...\")\n",
    "# Drop any datapoints containing None or NaN\n",
    "\n",
    "train_datapoints = normalize_and_clean(train_datapoints)"
   ]
  }
 ],
 "metadata": {
  "kernelspec": {
   "display_name": "venv",
   "language": "python",
   "name": "python3"
  },
  "language_info": {
   "codemirror_mode": {
    "name": "ipython",
    "version": 3
   },
   "file_extension": ".py",
   "mimetype": "text/x-python",
   "name": "python",
   "nbconvert_exporter": "python",
   "pygments_lexer": "ipython3",
   "version": "3.11.8"
  }
 },
 "nbformat": 4,
 "nbformat_minor": 2
}
